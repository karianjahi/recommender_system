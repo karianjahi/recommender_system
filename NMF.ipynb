{
 "cells": [
  {
   "cell_type": "code",
   "execution_count": 2,
   "metadata": {},
   "outputs": [],
   "source": [
    "import numpy as np\n",
    "import pandas as pd"
   ]
  },
  {
   "cell_type": "markdown",
   "metadata": {},
   "source": [
    "# Recommenders with NMF\n",
    "### Non-negative Matrix factorization"
   ]
  },
  {
   "cell_type": "markdown",
   "metadata": {},
   "source": [
    "### Idea\n",
    "- We approximate (the missing values of) the matrix we need: user-rating matrix decomposing the information of the final matrix by *factorizing* it into two other ones that we can actually derive\n",
    "- *factorizing*: decomposing a matrix into a product of two matrices\n",
    "- *non-negative*: all of our matrices only allow positive values"
   ]
  },
  {
   "cell_type": "markdown",
   "metadata": {},
   "source": [
    "### The Data\n",
    "#### Matrix of Users:Ratings (Rtrue) "
   ]
  },
  {
   "cell_type": "code",
   "execution_count": 24,
   "metadata": {},
   "outputs": [],
   "source": [
    "movies = ['Titanic', 'Breakfast at Tiffanys', 'Terminator', 'Star Trek', 'Star Wars']\n",
    "users = ['Ada', 'Bob', 'Steve', 'Margaret']\n",
    "Rtrue = np.array([[5, 4, 1, 1, np.nan],\n",
    "                  [3, 2, 1, np.nan, 1],\n",
    "                  [np.nan, np.nan, np.nan, np.nan, 5],\n",
    "                  [1, 1, 5, 4, 4]])"
   ]
  },
  {
   "cell_type": "code",
   "execution_count": 25,
   "metadata": {},
   "outputs": [
    {
     "data": {
      "text/html": [
       "<div>\n",
       "<style scoped>\n",
       "    .dataframe tbody tr th:only-of-type {\n",
       "        vertical-align: middle;\n",
       "    }\n",
       "\n",
       "    .dataframe tbody tr th {\n",
       "        vertical-align: top;\n",
       "    }\n",
       "\n",
       "    .dataframe thead th {\n",
       "        text-align: right;\n",
       "    }\n",
       "</style>\n",
       "<table border=\"1\" class=\"dataframe\">\n",
       "  <thead>\n",
       "    <tr style=\"text-align: right;\">\n",
       "      <th></th>\n",
       "      <th>Titanic</th>\n",
       "      <th>Breakfast at Tiffanys</th>\n",
       "      <th>Terminator</th>\n",
       "      <th>Star Trek</th>\n",
       "      <th>Star Wars</th>\n",
       "    </tr>\n",
       "  </thead>\n",
       "  <tbody>\n",
       "    <tr>\n",
       "      <th>Ada</th>\n",
       "      <td>5.0</td>\n",
       "      <td>4.0</td>\n",
       "      <td>1.0</td>\n",
       "      <td>1.0</td>\n",
       "      <td>NaN</td>\n",
       "    </tr>\n",
       "    <tr>\n",
       "      <th>Bob</th>\n",
       "      <td>3.0</td>\n",
       "      <td>2.0</td>\n",
       "      <td>1.0</td>\n",
       "      <td>NaN</td>\n",
       "      <td>1.0</td>\n",
       "    </tr>\n",
       "    <tr>\n",
       "      <th>Steve</th>\n",
       "      <td>NaN</td>\n",
       "      <td>NaN</td>\n",
       "      <td>NaN</td>\n",
       "      <td>NaN</td>\n",
       "      <td>5.0</td>\n",
       "    </tr>\n",
       "    <tr>\n",
       "      <th>Margaret</th>\n",
       "      <td>1.0</td>\n",
       "      <td>1.0</td>\n",
       "      <td>5.0</td>\n",
       "      <td>4.0</td>\n",
       "      <td>4.0</td>\n",
       "    </tr>\n",
       "  </tbody>\n",
       "</table>\n",
       "</div>"
      ],
      "text/plain": [
       "          Titanic  Breakfast at Tiffanys  Terminator  Star Trek  Star Wars\n",
       "Ada           5.0                    4.0         1.0        1.0        NaN\n",
       "Bob           3.0                    2.0         1.0        NaN        1.0\n",
       "Steve         NaN                    NaN         NaN        NaN        5.0\n",
       "Margaret      1.0                    1.0         5.0        4.0        4.0"
      ]
     },
     "execution_count": 25,
     "metadata": {},
     "output_type": "execute_result"
    }
   ],
   "source": [
    "df = pd.DataFrame(Rtrue, index=users, columns=movies)\n",
    "df"
   ]
  },
  {
   "cell_type": "markdown",
   "metadata": {},
   "source": [
    "#### More interesting data "
   ]
  },
  {
   "cell_type": "code",
   "execution_count": 41,
   "metadata": {},
   "outputs": [],
   "source": [
    "df = pd.read_csv('data/movies_pca_pasilla.csv', index_col= 'User', na_values = ['-', 'Nan'])"
   ]
  },
  {
   "cell_type": "code",
   "execution_count": 54,
   "metadata": {},
   "outputs": [
    {
     "data": {
      "text/html": [
       "<div>\n",
       "<style scoped>\n",
       "    .dataframe tbody tr th:only-of-type {\n",
       "        vertical-align: middle;\n",
       "    }\n",
       "\n",
       "    .dataframe tbody tr th {\n",
       "        vertical-align: top;\n",
       "    }\n",
       "\n",
       "    .dataframe thead th {\n",
       "        text-align: right;\n",
       "    }\n",
       "</style>\n",
       "<table border=\"1\" class=\"dataframe\">\n",
       "  <thead>\n",
       "    <tr style=\"text-align: right;\">\n",
       "      <th></th>\n",
       "      <th>Forrest Gump</th>\n",
       "      <th>Shawshank Redemption</th>\n",
       "      <th>Pulp Fiction</th>\n",
       "      <th>Silence of the Lambs</th>\n",
       "      <th>Matrix, The</th>\n",
       "      <th>Star Wars: Episode IV</th>\n",
       "      <th>Jurassic Park</th>\n",
       "      <th>Braveheart</th>\n",
       "      <th>Terminator 2</th>\n",
       "      <th>Toy Story</th>\n",
       "      <th>American Beauty</th>\n",
       "      <th>Dances with Wolves</th>\n",
       "      <th>Fargo</th>\n",
       "      <th>The Lion King</th>\n",
       "    </tr>\n",
       "    <tr>\n",
       "      <th>User</th>\n",
       "      <th></th>\n",
       "      <th></th>\n",
       "      <th></th>\n",
       "      <th></th>\n",
       "      <th></th>\n",
       "      <th></th>\n",
       "      <th></th>\n",
       "      <th></th>\n",
       "      <th></th>\n",
       "      <th></th>\n",
       "      <th></th>\n",
       "      <th></th>\n",
       "      <th></th>\n",
       "      <th></th>\n",
       "    </tr>\n",
       "  </thead>\n",
       "  <tbody>\n",
       "    <tr>\n",
       "      <th>Paula</th>\n",
       "      <td>5.0</td>\n",
       "      <td>NaN</td>\n",
       "      <td>2.0</td>\n",
       "      <td>4.0</td>\n",
       "      <td>5.0</td>\n",
       "      <td>2.0</td>\n",
       "      <td>5.0</td>\n",
       "      <td>5.0</td>\n",
       "      <td>5.0</td>\n",
       "      <td>5.0</td>\n",
       "      <td>4.0</td>\n",
       "      <td>NaN</td>\n",
       "      <td>NaN</td>\n",
       "      <td>5.0</td>\n",
       "    </tr>\n",
       "    <tr>\n",
       "      <th>Madhur</th>\n",
       "      <td>5.0</td>\n",
       "      <td>5.0</td>\n",
       "      <td>4.5</td>\n",
       "      <td>4.0</td>\n",
       "      <td>5.0</td>\n",
       "      <td>NaN</td>\n",
       "      <td>4.5</td>\n",
       "      <td>NaN</td>\n",
       "      <td>5.0</td>\n",
       "      <td>4.0</td>\n",
       "      <td>NaN</td>\n",
       "      <td>NaN</td>\n",
       "      <td>4.5</td>\n",
       "      <td>5.0</td>\n",
       "    </tr>\n",
       "    <tr>\n",
       "      <th>Mandana</th>\n",
       "      <td>NaN</td>\n",
       "      <td>NaN</td>\n",
       "      <td>4.0</td>\n",
       "      <td>5.0</td>\n",
       "      <td>5.0</td>\n",
       "      <td>2.0</td>\n",
       "      <td>4.0</td>\n",
       "      <td>5.0</td>\n",
       "      <td>5.0</td>\n",
       "      <td>4.0</td>\n",
       "      <td>NaN</td>\n",
       "      <td>NaN</td>\n",
       "      <td>NaN</td>\n",
       "      <td>5.0</td>\n",
       "    </tr>\n",
       "    <tr>\n",
       "      <th>Daniel</th>\n",
       "      <td>3.0</td>\n",
       "      <td>3.0</td>\n",
       "      <td>4.5</td>\n",
       "      <td>5.0</td>\n",
       "      <td>5.0</td>\n",
       "      <td>5.0</td>\n",
       "      <td>4.5</td>\n",
       "      <td>3.0</td>\n",
       "      <td>3.5</td>\n",
       "      <td>3.0</td>\n",
       "      <td>4.0</td>\n",
       "      <td>3.0</td>\n",
       "      <td>NaN</td>\n",
       "      <td>3.0</td>\n",
       "    </tr>\n",
       "    <tr>\n",
       "      <th>shaimaa</th>\n",
       "      <td>5.0</td>\n",
       "      <td>3.0</td>\n",
       "      <td>4.0</td>\n",
       "      <td>3.0</td>\n",
       "      <td>NaN</td>\n",
       "      <td>3.0</td>\n",
       "      <td>3.0</td>\n",
       "      <td>5.0</td>\n",
       "      <td>5.0</td>\n",
       "      <td>NaN</td>\n",
       "      <td>4.0</td>\n",
       "      <td>5.0</td>\n",
       "      <td>NaN</td>\n",
       "      <td>5.0</td>\n",
       "    </tr>\n",
       "    <tr>\n",
       "      <th>Edgar</th>\n",
       "      <td>4.0</td>\n",
       "      <td>3.0</td>\n",
       "      <td>5.0</td>\n",
       "      <td>4.0</td>\n",
       "      <td>4.0</td>\n",
       "      <td>5.0</td>\n",
       "      <td>3.0</td>\n",
       "      <td>4.0</td>\n",
       "      <td>3.0</td>\n",
       "      <td>4.0</td>\n",
       "      <td>5.0</td>\n",
       "      <td>NaN</td>\n",
       "      <td>NaN</td>\n",
       "      <td>3.0</td>\n",
       "    </tr>\n",
       "    <tr>\n",
       "      <th>Mitun</th>\n",
       "      <td>5.0</td>\n",
       "      <td>5.0</td>\n",
       "      <td>5.0</td>\n",
       "      <td>4.0</td>\n",
       "      <td>3.0</td>\n",
       "      <td>2.0</td>\n",
       "      <td>3.0</td>\n",
       "      <td>5.0</td>\n",
       "      <td>3.0</td>\n",
       "      <td>4.0</td>\n",
       "      <td>4.0</td>\n",
       "      <td>1.0</td>\n",
       "      <td>3.0</td>\n",
       "      <td>3.0</td>\n",
       "    </tr>\n",
       "    <tr>\n",
       "      <th>Georg</th>\n",
       "      <td>5.0</td>\n",
       "      <td>5.0</td>\n",
       "      <td>5.0</td>\n",
       "      <td>5.0</td>\n",
       "      <td>5.0</td>\n",
       "      <td>3.0</td>\n",
       "      <td>2.0</td>\n",
       "      <td>NaN</td>\n",
       "      <td>2.0</td>\n",
       "      <td>5.0</td>\n",
       "      <td>5.0</td>\n",
       "      <td>NaN</td>\n",
       "      <td>5.0</td>\n",
       "      <td>4.0</td>\n",
       "    </tr>\n",
       "    <tr>\n",
       "      <th>Hassan</th>\n",
       "      <td>NaN</td>\n",
       "      <td>5.0</td>\n",
       "      <td>NaN</td>\n",
       "      <td>NaN</td>\n",
       "      <td>5.0</td>\n",
       "      <td>4.0</td>\n",
       "      <td>4.0</td>\n",
       "      <td>NaN</td>\n",
       "      <td>4.0</td>\n",
       "      <td>NaN</td>\n",
       "      <td>NaN</td>\n",
       "      <td>4.0</td>\n",
       "      <td>NaN</td>\n",
       "      <td>4.0</td>\n",
       "    </tr>\n",
       "    <tr>\n",
       "      <th>Davis</th>\n",
       "      <td>3.0</td>\n",
       "      <td>NaN</td>\n",
       "      <td>3.0</td>\n",
       "      <td>5.0</td>\n",
       "      <td>5.0</td>\n",
       "      <td>3.0</td>\n",
       "      <td>3.0</td>\n",
       "      <td>2.0</td>\n",
       "      <td>2.0</td>\n",
       "      <td>4.0</td>\n",
       "      <td>2.0</td>\n",
       "      <td>NaN</td>\n",
       "      <td>NaN</td>\n",
       "      <td>4.0</td>\n",
       "    </tr>\n",
       "    <tr>\n",
       "      <th>arman</th>\n",
       "      <td>4.0</td>\n",
       "      <td>4.0</td>\n",
       "      <td>5.0</td>\n",
       "      <td>4.0</td>\n",
       "      <td>4.0</td>\n",
       "      <td>NaN</td>\n",
       "      <td>3.0</td>\n",
       "      <td>3.0</td>\n",
       "      <td>3.0</td>\n",
       "      <td>4.0</td>\n",
       "      <td>4.0</td>\n",
       "      <td>3.5</td>\n",
       "      <td>5.0</td>\n",
       "      <td>4.0</td>\n",
       "    </tr>\n",
       "    <tr>\n",
       "      <th>Thomas</th>\n",
       "      <td>4.0</td>\n",
       "      <td>NaN</td>\n",
       "      <td>2.0</td>\n",
       "      <td>1.0</td>\n",
       "      <td>3.0</td>\n",
       "      <td>NaN</td>\n",
       "      <td>3.0</td>\n",
       "      <td>4.0</td>\n",
       "      <td>3.5</td>\n",
       "      <td>4.0</td>\n",
       "      <td>NaN</td>\n",
       "      <td>4.0</td>\n",
       "      <td>NaN</td>\n",
       "      <td>5.0</td>\n",
       "    </tr>\n",
       "    <tr>\n",
       "      <th>Joseph</th>\n",
       "      <td>5.0</td>\n",
       "      <td>2.0</td>\n",
       "      <td>2.0</td>\n",
       "      <td>3.0</td>\n",
       "      <td>2.0</td>\n",
       "      <td>NaN</td>\n",
       "      <td>NaN</td>\n",
       "      <td>3.0</td>\n",
       "      <td>5.0</td>\n",
       "      <td>2.0</td>\n",
       "      <td>4.0</td>\n",
       "      <td>2.0</td>\n",
       "      <td>3.0</td>\n",
       "      <td>5.0</td>\n",
       "    </tr>\n",
       "  </tbody>\n",
       "</table>\n",
       "</div>"
      ],
      "text/plain": [
       "         Forrest Gump  Shawshank Redemption  Pulp Fiction  \\\n",
       "User                                                        \n",
       "Paula             5.0                   NaN           2.0   \n",
       "Madhur            5.0                   5.0           4.5   \n",
       "Mandana           NaN                   NaN           4.0   \n",
       "Daniel            3.0                   3.0           4.5   \n",
       "shaimaa           5.0                   3.0           4.0   \n",
       "Edgar             4.0                   3.0           5.0   \n",
       "Mitun             5.0                   5.0           5.0   \n",
       "Georg             5.0                   5.0           5.0   \n",
       "Hassan            NaN                   5.0           NaN   \n",
       "Davis             3.0                   NaN           3.0   \n",
       "arman             4.0                   4.0           5.0   \n",
       "Thomas            4.0                   NaN           2.0   \n",
       "Joseph            5.0                   2.0           2.0   \n",
       "\n",
       "         Silence of the Lambs  Matrix, The  Star Wars: Episode IV   \\\n",
       "User                                                                 \n",
       "Paula                     4.0          5.0                     2.0   \n",
       "Madhur                    4.0          5.0                     NaN   \n",
       "Mandana                   5.0          5.0                     2.0   \n",
       "Daniel                    5.0          5.0                     5.0   \n",
       "shaimaa                   3.0          NaN                     3.0   \n",
       "Edgar                     4.0          4.0                     5.0   \n",
       "Mitun                     4.0          3.0                     2.0   \n",
       "Georg                     5.0          5.0                     3.0   \n",
       "Hassan                    NaN          5.0                     4.0   \n",
       "Davis                     5.0          5.0                     3.0   \n",
       "arman                     4.0          4.0                     NaN   \n",
       "Thomas                    1.0          3.0                     NaN   \n",
       "Joseph                    3.0          2.0                     NaN   \n",
       "\n",
       "         Jurassic Park  Braveheart  Terminator 2  Toy Story  American Beauty  \\\n",
       "User                                                                           \n",
       "Paula              5.0         5.0           5.0        5.0              4.0   \n",
       "Madhur             4.5         NaN           5.0        4.0              NaN   \n",
       "Mandana            4.0         5.0           5.0        4.0              NaN   \n",
       "Daniel             4.5         3.0           3.5        3.0              4.0   \n",
       "shaimaa            3.0         5.0           5.0        NaN              4.0   \n",
       "Edgar              3.0         4.0           3.0        4.0              5.0   \n",
       "Mitun              3.0         5.0           3.0        4.0              4.0   \n",
       "Georg              2.0         NaN           2.0        5.0              5.0   \n",
       "Hassan             4.0         NaN           4.0        NaN              NaN   \n",
       "Davis              3.0         2.0           2.0        4.0              2.0   \n",
       "arman              3.0         3.0           3.0        4.0              4.0   \n",
       "Thomas             3.0         4.0           3.5        4.0              NaN   \n",
       "Joseph             NaN         3.0           5.0        2.0              4.0   \n",
       "\n",
       "         Dances with Wolves  Fargo  The Lion King  \n",
       "User                                               \n",
       "Paula                   NaN    NaN            5.0  \n",
       "Madhur                  NaN    4.5            5.0  \n",
       "Mandana                 NaN    NaN            5.0  \n",
       "Daniel                  3.0    NaN            3.0  \n",
       "shaimaa                 5.0    NaN            5.0  \n",
       "Edgar                   NaN    NaN            3.0  \n",
       "Mitun                   1.0    3.0            3.0  \n",
       "Georg                   NaN    5.0            4.0  \n",
       "Hassan                  4.0    NaN            4.0  \n",
       "Davis                   NaN    NaN            4.0  \n",
       "arman                   3.5    5.0            4.0  \n",
       "Thomas                  4.0    NaN            5.0  \n",
       "Joseph                  2.0    3.0            5.0  "
      ]
     },
     "execution_count": 54,
     "metadata": {},
     "output_type": "execute_result"
    }
   ],
   "source": [
    "def replace_comma_with_dot(df):\n",
    "    column_names = df.columns\n",
    "    for column_name in column_names:\n",
    "        df[column_name] = [float(str(i).replace(\",\", \".\")) for i in list(df[column_name])]\n",
    "    return df"
   ]
  },
  {
   "cell_type": "code",
   "execution_count": 55,
   "metadata": {},
   "outputs": [],
   "source": [
    "df = replace_comma_with_dot(df)"
   ]
  },
  {
   "cell_type": "code",
   "execution_count": 56,
   "metadata": {},
   "outputs": [
    {
     "data": {
      "text/html": [
       "<div>\n",
       "<style scoped>\n",
       "    .dataframe tbody tr th:only-of-type {\n",
       "        vertical-align: middle;\n",
       "    }\n",
       "\n",
       "    .dataframe tbody tr th {\n",
       "        vertical-align: top;\n",
       "    }\n",
       "\n",
       "    .dataframe thead th {\n",
       "        text-align: right;\n",
       "    }\n",
       "</style>\n",
       "<table border=\"1\" class=\"dataframe\">\n",
       "  <thead>\n",
       "    <tr style=\"text-align: right;\">\n",
       "      <th></th>\n",
       "      <th>Forrest Gump</th>\n",
       "      <th>Shawshank Redemption</th>\n",
       "      <th>Pulp Fiction</th>\n",
       "      <th>Silence of the Lambs</th>\n",
       "      <th>Matrix, The</th>\n",
       "      <th>Star Wars: Episode IV</th>\n",
       "      <th>Jurassic Park</th>\n",
       "      <th>Braveheart</th>\n",
       "      <th>Terminator 2</th>\n",
       "      <th>Toy Story</th>\n",
       "      <th>American Beauty</th>\n",
       "      <th>Dances with Wolves</th>\n",
       "      <th>Fargo</th>\n",
       "      <th>The Lion King</th>\n",
       "    </tr>\n",
       "    <tr>\n",
       "      <th>User</th>\n",
       "      <th></th>\n",
       "      <th></th>\n",
       "      <th></th>\n",
       "      <th></th>\n",
       "      <th></th>\n",
       "      <th></th>\n",
       "      <th></th>\n",
       "      <th></th>\n",
       "      <th></th>\n",
       "      <th></th>\n",
       "      <th></th>\n",
       "      <th></th>\n",
       "      <th></th>\n",
       "      <th></th>\n",
       "    </tr>\n",
       "  </thead>\n",
       "  <tbody>\n",
       "    <tr>\n",
       "      <th>Paula</th>\n",
       "      <td>5.0</td>\n",
       "      <td>NaN</td>\n",
       "      <td>2.0</td>\n",
       "      <td>4.0</td>\n",
       "      <td>5.0</td>\n",
       "      <td>2.0</td>\n",
       "      <td>5.0</td>\n",
       "      <td>5.0</td>\n",
       "      <td>5.0</td>\n",
       "      <td>5.0</td>\n",
       "      <td>4.0</td>\n",
       "      <td>NaN</td>\n",
       "      <td>NaN</td>\n",
       "      <td>5.0</td>\n",
       "    </tr>\n",
       "    <tr>\n",
       "      <th>Madhur</th>\n",
       "      <td>5.0</td>\n",
       "      <td>5.0</td>\n",
       "      <td>4.5</td>\n",
       "      <td>4.0</td>\n",
       "      <td>5.0</td>\n",
       "      <td>NaN</td>\n",
       "      <td>4.5</td>\n",
       "      <td>NaN</td>\n",
       "      <td>5.0</td>\n",
       "      <td>4.0</td>\n",
       "      <td>NaN</td>\n",
       "      <td>NaN</td>\n",
       "      <td>4.5</td>\n",
       "      <td>5.0</td>\n",
       "    </tr>\n",
       "    <tr>\n",
       "      <th>Mandana</th>\n",
       "      <td>NaN</td>\n",
       "      <td>NaN</td>\n",
       "      <td>4.0</td>\n",
       "      <td>5.0</td>\n",
       "      <td>5.0</td>\n",
       "      <td>2.0</td>\n",
       "      <td>4.0</td>\n",
       "      <td>5.0</td>\n",
       "      <td>5.0</td>\n",
       "      <td>4.0</td>\n",
       "      <td>NaN</td>\n",
       "      <td>NaN</td>\n",
       "      <td>NaN</td>\n",
       "      <td>5.0</td>\n",
       "    </tr>\n",
       "    <tr>\n",
       "      <th>Daniel</th>\n",
       "      <td>3.0</td>\n",
       "      <td>3.0</td>\n",
       "      <td>4.5</td>\n",
       "      <td>5.0</td>\n",
       "      <td>5.0</td>\n",
       "      <td>5.0</td>\n",
       "      <td>4.5</td>\n",
       "      <td>3.0</td>\n",
       "      <td>3.5</td>\n",
       "      <td>3.0</td>\n",
       "      <td>4.0</td>\n",
       "      <td>3.0</td>\n",
       "      <td>NaN</td>\n",
       "      <td>3.0</td>\n",
       "    </tr>\n",
       "    <tr>\n",
       "      <th>shaimaa</th>\n",
       "      <td>5.0</td>\n",
       "      <td>3.0</td>\n",
       "      <td>4.0</td>\n",
       "      <td>3.0</td>\n",
       "      <td>NaN</td>\n",
       "      <td>3.0</td>\n",
       "      <td>3.0</td>\n",
       "      <td>5.0</td>\n",
       "      <td>5.0</td>\n",
       "      <td>NaN</td>\n",
       "      <td>4.0</td>\n",
       "      <td>5.0</td>\n",
       "      <td>NaN</td>\n",
       "      <td>5.0</td>\n",
       "    </tr>\n",
       "    <tr>\n",
       "      <th>Edgar</th>\n",
       "      <td>4.0</td>\n",
       "      <td>3.0</td>\n",
       "      <td>5.0</td>\n",
       "      <td>4.0</td>\n",
       "      <td>4.0</td>\n",
       "      <td>5.0</td>\n",
       "      <td>3.0</td>\n",
       "      <td>4.0</td>\n",
       "      <td>3.0</td>\n",
       "      <td>4.0</td>\n",
       "      <td>5.0</td>\n",
       "      <td>NaN</td>\n",
       "      <td>NaN</td>\n",
       "      <td>3.0</td>\n",
       "    </tr>\n",
       "    <tr>\n",
       "      <th>Mitun</th>\n",
       "      <td>5.0</td>\n",
       "      <td>5.0</td>\n",
       "      <td>5.0</td>\n",
       "      <td>4.0</td>\n",
       "      <td>3.0</td>\n",
       "      <td>2.0</td>\n",
       "      <td>3.0</td>\n",
       "      <td>5.0</td>\n",
       "      <td>3.0</td>\n",
       "      <td>4.0</td>\n",
       "      <td>4.0</td>\n",
       "      <td>1.0</td>\n",
       "      <td>3.0</td>\n",
       "      <td>3.0</td>\n",
       "    </tr>\n",
       "    <tr>\n",
       "      <th>Georg</th>\n",
       "      <td>5.0</td>\n",
       "      <td>5.0</td>\n",
       "      <td>5.0</td>\n",
       "      <td>5.0</td>\n",
       "      <td>5.0</td>\n",
       "      <td>3.0</td>\n",
       "      <td>2.0</td>\n",
       "      <td>NaN</td>\n",
       "      <td>2.0</td>\n",
       "      <td>5.0</td>\n",
       "      <td>5.0</td>\n",
       "      <td>NaN</td>\n",
       "      <td>5.0</td>\n",
       "      <td>4.0</td>\n",
       "    </tr>\n",
       "    <tr>\n",
       "      <th>Hassan</th>\n",
       "      <td>NaN</td>\n",
       "      <td>5.0</td>\n",
       "      <td>NaN</td>\n",
       "      <td>NaN</td>\n",
       "      <td>5.0</td>\n",
       "      <td>4.0</td>\n",
       "      <td>4.0</td>\n",
       "      <td>NaN</td>\n",
       "      <td>4.0</td>\n",
       "      <td>NaN</td>\n",
       "      <td>NaN</td>\n",
       "      <td>4.0</td>\n",
       "      <td>NaN</td>\n",
       "      <td>4.0</td>\n",
       "    </tr>\n",
       "    <tr>\n",
       "      <th>Davis</th>\n",
       "      <td>3.0</td>\n",
       "      <td>NaN</td>\n",
       "      <td>3.0</td>\n",
       "      <td>5.0</td>\n",
       "      <td>5.0</td>\n",
       "      <td>3.0</td>\n",
       "      <td>3.0</td>\n",
       "      <td>2.0</td>\n",
       "      <td>2.0</td>\n",
       "      <td>4.0</td>\n",
       "      <td>2.0</td>\n",
       "      <td>NaN</td>\n",
       "      <td>NaN</td>\n",
       "      <td>4.0</td>\n",
       "    </tr>\n",
       "    <tr>\n",
       "      <th>arman</th>\n",
       "      <td>4.0</td>\n",
       "      <td>4.0</td>\n",
       "      <td>5.0</td>\n",
       "      <td>4.0</td>\n",
       "      <td>4.0</td>\n",
       "      <td>NaN</td>\n",
       "      <td>3.0</td>\n",
       "      <td>3.0</td>\n",
       "      <td>3.0</td>\n",
       "      <td>4.0</td>\n",
       "      <td>4.0</td>\n",
       "      <td>3.5</td>\n",
       "      <td>5.0</td>\n",
       "      <td>4.0</td>\n",
       "    </tr>\n",
       "    <tr>\n",
       "      <th>Thomas</th>\n",
       "      <td>4.0</td>\n",
       "      <td>NaN</td>\n",
       "      <td>2.0</td>\n",
       "      <td>1.0</td>\n",
       "      <td>3.0</td>\n",
       "      <td>NaN</td>\n",
       "      <td>3.0</td>\n",
       "      <td>4.0</td>\n",
       "      <td>3.5</td>\n",
       "      <td>4.0</td>\n",
       "      <td>NaN</td>\n",
       "      <td>4.0</td>\n",
       "      <td>NaN</td>\n",
       "      <td>5.0</td>\n",
       "    </tr>\n",
       "    <tr>\n",
       "      <th>Joseph</th>\n",
       "      <td>5.0</td>\n",
       "      <td>2.0</td>\n",
       "      <td>2.0</td>\n",
       "      <td>3.0</td>\n",
       "      <td>2.0</td>\n",
       "      <td>NaN</td>\n",
       "      <td>NaN</td>\n",
       "      <td>3.0</td>\n",
       "      <td>5.0</td>\n",
       "      <td>2.0</td>\n",
       "      <td>4.0</td>\n",
       "      <td>2.0</td>\n",
       "      <td>3.0</td>\n",
       "      <td>5.0</td>\n",
       "    </tr>\n",
       "  </tbody>\n",
       "</table>\n",
       "</div>"
      ],
      "text/plain": [
       "         Forrest Gump  Shawshank Redemption  Pulp Fiction  \\\n",
       "User                                                        \n",
       "Paula             5.0                   NaN           2.0   \n",
       "Madhur            5.0                   5.0           4.5   \n",
       "Mandana           NaN                   NaN           4.0   \n",
       "Daniel            3.0                   3.0           4.5   \n",
       "shaimaa           5.0                   3.0           4.0   \n",
       "Edgar             4.0                   3.0           5.0   \n",
       "Mitun             5.0                   5.0           5.0   \n",
       "Georg             5.0                   5.0           5.0   \n",
       "Hassan            NaN                   5.0           NaN   \n",
       "Davis             3.0                   NaN           3.0   \n",
       "arman             4.0                   4.0           5.0   \n",
       "Thomas            4.0                   NaN           2.0   \n",
       "Joseph            5.0                   2.0           2.0   \n",
       "\n",
       "         Silence of the Lambs  Matrix, The  Star Wars: Episode IV   \\\n",
       "User                                                                 \n",
       "Paula                     4.0          5.0                     2.0   \n",
       "Madhur                    4.0          5.0                     NaN   \n",
       "Mandana                   5.0          5.0                     2.0   \n",
       "Daniel                    5.0          5.0                     5.0   \n",
       "shaimaa                   3.0          NaN                     3.0   \n",
       "Edgar                     4.0          4.0                     5.0   \n",
       "Mitun                     4.0          3.0                     2.0   \n",
       "Georg                     5.0          5.0                     3.0   \n",
       "Hassan                    NaN          5.0                     4.0   \n",
       "Davis                     5.0          5.0                     3.0   \n",
       "arman                     4.0          4.0                     NaN   \n",
       "Thomas                    1.0          3.0                     NaN   \n",
       "Joseph                    3.0          2.0                     NaN   \n",
       "\n",
       "         Jurassic Park  Braveheart  Terminator 2  Toy Story  American Beauty  \\\n",
       "User                                                                           \n",
       "Paula              5.0         5.0           5.0        5.0              4.0   \n",
       "Madhur             4.5         NaN           5.0        4.0              NaN   \n",
       "Mandana            4.0         5.0           5.0        4.0              NaN   \n",
       "Daniel             4.5         3.0           3.5        3.0              4.0   \n",
       "shaimaa            3.0         5.0           5.0        NaN              4.0   \n",
       "Edgar              3.0         4.0           3.0        4.0              5.0   \n",
       "Mitun              3.0         5.0           3.0        4.0              4.0   \n",
       "Georg              2.0         NaN           2.0        5.0              5.0   \n",
       "Hassan             4.0         NaN           4.0        NaN              NaN   \n",
       "Davis              3.0         2.0           2.0        4.0              2.0   \n",
       "arman              3.0         3.0           3.0        4.0              4.0   \n",
       "Thomas             3.0         4.0           3.5        4.0              NaN   \n",
       "Joseph             NaN         3.0           5.0        2.0              4.0   \n",
       "\n",
       "         Dances with Wolves  Fargo  The Lion King  \n",
       "User                                               \n",
       "Paula                   NaN    NaN            5.0  \n",
       "Madhur                  NaN    4.5            5.0  \n",
       "Mandana                 NaN    NaN            5.0  \n",
       "Daniel                  3.0    NaN            3.0  \n",
       "shaimaa                 5.0    NaN            5.0  \n",
       "Edgar                   NaN    NaN            3.0  \n",
       "Mitun                   1.0    3.0            3.0  \n",
       "Georg                   NaN    5.0            4.0  \n",
       "Hassan                  4.0    NaN            4.0  \n",
       "Davis                   NaN    NaN            4.0  \n",
       "arman                   3.5    5.0            4.0  \n",
       "Thomas                  4.0    NaN            5.0  \n",
       "Joseph                  2.0    3.0            5.0  "
      ]
     },
     "execution_count": 56,
     "metadata": {},
     "output_type": "execute_result"
    }
   ],
   "source": [
    "df"
   ]
  },
  {
   "cell_type": "markdown",
   "metadata": {},
   "source": [
    "The NMF algorithm in sklearn doesn't take missing values...\n",
    "Other options that do take missing values: http://surpriselib.com/"
   ]
  },
  {
   "cell_type": "markdown",
   "metadata": {},
   "source": [
    "### 0. How do we deal with missing values (Imputation)?\n",
    "##### Ideas?\n",
    "- Fill with mean or median (e.g. 2 or 3, 2.5) <- easy, quick, maybe good enough?\n",
    "- Fill in with 0 <- would be interpreted as \"person didn't like the movie\", not such a good idea\n",
    "- Fill missing values with more sophisticated algorith:\n",
    "    - e.g. mean user rating for similar movie genre\n",
    "    - KNN imputer (exists in sklearn): computational expensive"
   ]
  },
  {
   "cell_type": "code",
   "execution_count": 28,
   "metadata": {},
   "outputs": [],
   "source": [
    "from sklearn.impute import SimpleImputer"
   ]
  },
  {
   "cell_type": "code",
   "execution_count": 57,
   "metadata": {},
   "outputs": [],
   "source": [
    "imputer = SimpleImputer(strategy = 'constant', fill_value= 2.5)"
   ]
  },
  {
   "cell_type": "code",
   "execution_count": 58,
   "metadata": {},
   "outputs": [],
   "source": [
    "Rtrue = imputer.fit_transform(df)"
   ]
  },
  {
   "cell_type": "code",
   "execution_count": 59,
   "metadata": {},
   "outputs": [
    {
     "data": {
      "text/plain": [
       "array([[5. , 2.5, 2. , 4. , 5. , 2. , 5. , 5. , 5. , 5. , 4. , 2.5, 2.5,\n",
       "        5. ],\n",
       "       [5. , 5. , 4.5, 4. , 5. , 2.5, 4.5, 2.5, 5. , 4. , 2.5, 2.5, 4.5,\n",
       "        5. ],\n",
       "       [2.5, 2.5, 4. , 5. , 5. , 2. , 4. , 5. , 5. , 4. , 2.5, 2.5, 2.5,\n",
       "        5. ],\n",
       "       [3. , 3. , 4.5, 5. , 5. , 5. , 4.5, 3. , 3.5, 3. , 4. , 3. , 2.5,\n",
       "        3. ],\n",
       "       [5. , 3. , 4. , 3. , 2.5, 3. , 3. , 5. , 5. , 2.5, 4. , 5. , 2.5,\n",
       "        5. ],\n",
       "       [4. , 3. , 5. , 4. , 4. , 5. , 3. , 4. , 3. , 4. , 5. , 2.5, 2.5,\n",
       "        3. ],\n",
       "       [5. , 5. , 5. , 4. , 3. , 2. , 3. , 5. , 3. , 4. , 4. , 1. , 3. ,\n",
       "        3. ],\n",
       "       [5. , 5. , 5. , 5. , 5. , 3. , 2. , 2.5, 2. , 5. , 5. , 2.5, 5. ,\n",
       "        4. ],\n",
       "       [2.5, 5. , 2.5, 2.5, 5. , 4. , 4. , 2.5, 4. , 2.5, 2.5, 4. , 2.5,\n",
       "        4. ],\n",
       "       [3. , 2.5, 3. , 5. , 5. , 3. , 3. , 2. , 2. , 4. , 2. , 2.5, 2.5,\n",
       "        4. ],\n",
       "       [4. , 4. , 5. , 4. , 4. , 2.5, 3. , 3. , 3. , 4. , 4. , 3.5, 5. ,\n",
       "        4. ],\n",
       "       [4. , 2.5, 2. , 1. , 3. , 2.5, 3. , 4. , 3.5, 4. , 2.5, 4. , 2.5,\n",
       "        5. ],\n",
       "       [5. , 2. , 2. , 3. , 2. , 2.5, 2.5, 3. , 5. , 2. , 4. , 2. , 3. ,\n",
       "        5. ]])"
      ]
     },
     "execution_count": 59,
     "metadata": {},
     "output_type": "execute_result"
    }
   ],
   "source": [
    "Rtrue"
   ]
  },
  {
   "cell_type": "markdown",
   "metadata": {},
   "source": [
    "### 1. Create a model \n",
    "Model assumes R ~ PQ'"
   ]
  },
  {
   "cell_type": "code",
   "execution_count": 17,
   "metadata": {},
   "outputs": [],
   "source": [
    "from sklearn.decomposition import NMF"
   ]
  },
  {
   "cell_type": "code",
   "execution_count": 60,
   "metadata": {},
   "outputs": [],
   "source": [
    "model = NMF(n_components=2, max_iter= 500)  "
   ]
  },
  {
   "cell_type": "markdown",
   "metadata": {},
   "source": [
    "- Components (# of hidden feutures, in our example 'genres'):\n",
    "    * Small `n_components` = trains fast, might underfit\n",
    "    * High `n_components` = trains slow, might overfit"
   ]
  },
  {
   "cell_type": "code",
   "execution_count": 61,
   "metadata": {},
   "outputs": [
    {
     "name": "stderr",
     "output_type": "stream",
     "text": [
      "/Users/spiced/opt/anaconda3/envs/route_durlach/lib/python3.8/site-packages/sklearn/decomposition/_nmf.py:289: FutureWarning: The 'init' value, when 'init=None' and n_components is less than n_samples and n_features, will be changed from 'nndsvd' to 'nndsvda' in 1.1 (renaming of 0.26).\n",
      "  warnings.warn(\n"
     ]
    },
    {
     "data": {
      "text/plain": [
       "NMF(max_iter=500, n_components=2)"
      ]
     },
     "execution_count": 61,
     "metadata": {},
     "output_type": "execute_result"
    }
   ],
   "source": [
    "model.fit(Rtrue)"
   ]
  },
  {
   "cell_type": "markdown",
   "metadata": {},
   "source": [
    "### 2. Get matrices **Q** and **P**\n",
    "- `Q`: `model.components_`\n",
    "- `P`: `model.transform(RTrue)`"
   ]
  },
  {
   "cell_type": "markdown",
   "metadata": {},
   "source": [
    "#### Q: Movie-'genre' matrix"
   ]
  },
  {
   "cell_type": "code",
   "execution_count": 62,
   "metadata": {},
   "outputs": [
    {
     "data": {
      "text/plain": [
       "array([[1.67769698, 1.95240616, 2.26962567, 2.18581424, 2.13850327,\n",
       "        1.53478479, 1.30591718, 1.15112345, 0.98903984, 1.84727007,\n",
       "        1.74989271, 0.94948443, 1.72288165, 1.3747494 ],\n",
       "       [1.25707423, 0.23241262, 0.        , 0.19514867, 0.56096201,\n",
       "        0.41423856, 1.22175883, 1.61474909, 2.05815208, 0.62032028,\n",
       "        0.62608954, 1.24562009, 0.2675225 , 1.86402277]])"
      ]
     },
     "execution_count": 62,
     "metadata": {},
     "output_type": "execute_result"
    }
   ],
   "source": [
    "Q = model.components_\n",
    "Q"
   ]
  },
  {
   "cell_type": "code",
   "execution_count": 70,
   "metadata": {},
   "outputs": [
    {
     "data": {
      "text/html": [
       "<div>\n",
       "<style scoped>\n",
       "    .dataframe tbody tr th:only-of-type {\n",
       "        vertical-align: middle;\n",
       "    }\n",
       "\n",
       "    .dataframe tbody tr th {\n",
       "        vertical-align: top;\n",
       "    }\n",
       "\n",
       "    .dataframe thead th {\n",
       "        text-align: right;\n",
       "    }\n",
       "</style>\n",
       "<table border=\"1\" class=\"dataframe\">\n",
       "  <thead>\n",
       "    <tr style=\"text-align: right;\">\n",
       "      <th></th>\n",
       "      <th>Forrest Gump</th>\n",
       "      <th>Shawshank Redemption</th>\n",
       "      <th>Pulp Fiction</th>\n",
       "      <th>Silence of the Lambs</th>\n",
       "      <th>Matrix, The</th>\n",
       "      <th>Star Wars: Episode IV</th>\n",
       "      <th>Jurassic Park</th>\n",
       "      <th>Braveheart</th>\n",
       "      <th>Terminator 2</th>\n",
       "      <th>Toy Story</th>\n",
       "      <th>American Beauty</th>\n",
       "      <th>Dances with Wolves</th>\n",
       "      <th>Fargo</th>\n",
       "      <th>The Lion King</th>\n",
       "    </tr>\n",
       "  </thead>\n",
       "  <tbody>\n",
       "    <tr>\n",
       "      <th>feature1</th>\n",
       "      <td>1.677697</td>\n",
       "      <td>1.952406</td>\n",
       "      <td>2.269626</td>\n",
       "      <td>2.185814</td>\n",
       "      <td>2.138503</td>\n",
       "      <td>1.534785</td>\n",
       "      <td>1.305917</td>\n",
       "      <td>1.151123</td>\n",
       "      <td>0.989040</td>\n",
       "      <td>1.84727</td>\n",
       "      <td>1.749893</td>\n",
       "      <td>0.949484</td>\n",
       "      <td>1.722882</td>\n",
       "      <td>1.374749</td>\n",
       "    </tr>\n",
       "    <tr>\n",
       "      <th>feature2</th>\n",
       "      <td>1.257074</td>\n",
       "      <td>0.232413</td>\n",
       "      <td>0.000000</td>\n",
       "      <td>0.195149</td>\n",
       "      <td>0.560962</td>\n",
       "      <td>0.414239</td>\n",
       "      <td>1.221759</td>\n",
       "      <td>1.614749</td>\n",
       "      <td>2.058152</td>\n",
       "      <td>0.62032</td>\n",
       "      <td>0.626090</td>\n",
       "      <td>1.245620</td>\n",
       "      <td>0.267523</td>\n",
       "      <td>1.864023</td>\n",
       "    </tr>\n",
       "  </tbody>\n",
       "</table>\n",
       "</div>"
      ],
      "text/plain": [
       "          Forrest Gump  Shawshank Redemption  Pulp Fiction  \\\n",
       "feature1      1.677697              1.952406      2.269626   \n",
       "feature2      1.257074              0.232413      0.000000   \n",
       "\n",
       "          Silence of the Lambs  Matrix, The  Star Wars: Episode IV   \\\n",
       "feature1              2.185814     2.138503                1.534785   \n",
       "feature2              0.195149     0.560962                0.414239   \n",
       "\n",
       "          Jurassic Park  Braveheart  Terminator 2  Toy Story  American Beauty  \\\n",
       "feature1       1.305917    1.151123      0.989040    1.84727         1.749893   \n",
       "feature2       1.221759    1.614749      2.058152    0.62032         0.626090   \n",
       "\n",
       "          Dances with Wolves     Fargo  The Lion King  \n",
       "feature1            0.949484  1.722882       1.374749  \n",
       "feature2            1.245620  0.267523       1.864023  "
      ]
     },
     "execution_count": 70,
     "metadata": {},
     "output_type": "execute_result"
    }
   ],
   "source": [
    "Q_df = pd.DataFrame(model.components_, columns=df.columns, index=['feature1', 'feature2'])\n",
    "Q_df"
   ]
  },
  {
   "cell_type": "code",
   "execution_count": 72,
   "metadata": {},
   "outputs": [],
   "source": [
    "import seaborn as sns"
   ]
  },
  {
   "cell_type": "code",
   "execution_count": 73,
   "metadata": {},
   "outputs": [
    {
     "data": {
      "text/plain": [
       "<AxesSubplot:>"
      ]
     },
     "execution_count": 73,
     "metadata": {},
     "output_type": "execute_result"
    },
    {
     "data": {
      "image/png": "[encoded data removed]",
      "text/plain": [
       "<Figure size 432x288 with 2 Axes>"
      ]
     },
     "metadata": {
      "needs_background": "light"
     },
     "output_type": "display_data"
    }
   ],
   "source": [
    "sns.heatmap(Q_df)"
   ]
  },
  {
   "cell_type": "markdown",
   "metadata": {},
   "source": [
    "#### P: User-'genre' matrix"
   ]
  },
  {
   "cell_type": "code",
   "execution_count": 74,
   "metadata": {},
   "outputs": [
    {
     "data": {
      "text/plain": [
       "array([[1.39917283, 1.89436387],\n",
       "       [1.92060389, 1.06204724],\n",
       "       [1.51520935, 1.42557014],\n",
       "       [1.93995559, 0.59324472],\n",
       "       [1.25096624, 1.92716313],\n",
       "       [1.95917424, 0.56608705],\n",
       "       [1.89383581, 0.5824245 ],\n",
       "       [2.45839009, 0.        ],\n",
       "       [1.45930118, 1.11020277],\n",
       "       [1.68458949, 0.43505528],\n",
       "       [2.00765247, 0.56131118],\n",
       "       [0.94642272, 1.77189389],\n",
       "       [1.00641888, 1.65992437]])"
      ]
     },
     "execution_count": 74,
     "metadata": {},
     "output_type": "execute_result"
    }
   ],
   "source": [
    "P = model.transform(Rtrue)\n",
    "P"
   ]
  },
  {
   "cell_type": "code",
   "execution_count": 75,
   "metadata": {},
   "outputs": [
    {
     "data": {
      "text/html": [
       "<div>\n",
       "<style scoped>\n",
       "    .dataframe tbody tr th:only-of-type {\n",
       "        vertical-align: middle;\n",
       "    }\n",
       "\n",
       "    .dataframe tbody tr th {\n",
       "        vertical-align: top;\n",
       "    }\n",
       "\n",
       "    .dataframe thead th {\n",
       "        text-align: right;\n",
       "    }\n",
       "</style>\n",
       "<table border=\"1\" class=\"dataframe\">\n",
       "  <thead>\n",
       "    <tr style=\"text-align: right;\">\n",
       "      <th></th>\n",
       "      <th>feature1</th>\n",
       "      <th>feature2</th>\n",
       "    </tr>\n",
       "    <tr>\n",
       "      <th>User</th>\n",
       "      <th></th>\n",
       "      <th></th>\n",
       "    </tr>\n",
       "  </thead>\n",
       "  <tbody>\n",
       "    <tr>\n",
       "      <th>Paula</th>\n",
       "      <td>1.399173</td>\n",
       "      <td>1.894364</td>\n",
       "    </tr>\n",
       "    <tr>\n",
       "      <th>Madhur</th>\n",
       "      <td>1.920604</td>\n",
       "      <td>1.062047</td>\n",
       "    </tr>\n",
       "    <tr>\n",
       "      <th>Mandana</th>\n",
       "      <td>1.515209</td>\n",
       "      <td>1.425570</td>\n",
       "    </tr>\n",
       "    <tr>\n",
       "      <th>Daniel</th>\n",
       "      <td>1.939956</td>\n",
       "      <td>0.593245</td>\n",
       "    </tr>\n",
       "    <tr>\n",
       "      <th>shaimaa</th>\n",
       "      <td>1.250966</td>\n",
       "      <td>1.927163</td>\n",
       "    </tr>\n",
       "    <tr>\n",
       "      <th>Edgar</th>\n",
       "      <td>1.959174</td>\n",
       "      <td>0.566087</td>\n",
       "    </tr>\n",
       "    <tr>\n",
       "      <th>Mitun</th>\n",
       "      <td>1.893836</td>\n",
       "      <td>0.582424</td>\n",
       "    </tr>\n",
       "    <tr>\n",
       "      <th>Georg</th>\n",
       "      <td>2.458390</td>\n",
       "      <td>0.000000</td>\n",
       "    </tr>\n",
       "    <tr>\n",
       "      <th>Hassan</th>\n",
       "      <td>1.459301</td>\n",
       "      <td>1.110203</td>\n",
       "    </tr>\n",
       "    <tr>\n",
       "      <th>Davis</th>\n",
       "      <td>1.684589</td>\n",
       "      <td>0.435055</td>\n",
       "    </tr>\n",
       "    <tr>\n",
       "      <th>arman</th>\n",
       "      <td>2.007652</td>\n",
       "      <td>0.561311</td>\n",
       "    </tr>\n",
       "    <tr>\n",
       "      <th>Thomas</th>\n",
       "      <td>0.946423</td>\n",
       "      <td>1.771894</td>\n",
       "    </tr>\n",
       "    <tr>\n",
       "      <th>Joseph</th>\n",
       "      <td>1.006419</td>\n",
       "      <td>1.659924</td>\n",
       "    </tr>\n",
       "  </tbody>\n",
       "</table>\n",
       "</div>"
      ],
      "text/plain": [
       "         feature1  feature2\n",
       "User                       \n",
       "Paula    1.399173  1.894364\n",
       "Madhur   1.920604  1.062047\n",
       "Mandana  1.515209  1.425570\n",
       "Daniel   1.939956  0.593245\n",
       "shaimaa  1.250966  1.927163\n",
       "Edgar    1.959174  0.566087\n",
       "Mitun    1.893836  0.582424\n",
       "Georg    2.458390  0.000000\n",
       "Hassan   1.459301  1.110203\n",
       "Davis    1.684589  0.435055\n",
       "arman    2.007652  0.561311\n",
       "Thomas   0.946423  1.771894\n",
       "Joseph   1.006419  1.659924"
      ]
     },
     "execution_count": 75,
     "metadata": {},
     "output_type": "execute_result"
    }
   ],
   "source": [
    "P_df = pd.DataFrame(P, columns=['feature1', 'feature2'], index=df.index)\n",
    "P_df"
   ]
  },
  {
   "cell_type": "code",
   "execution_count": 76,
   "metadata": {},
   "outputs": [
    {
     "data": {
      "text/plain": [
       "<AxesSubplot:ylabel='User'>"
      ]
     },
     "execution_count": 76,
     "metadata": {},
     "output_type": "execute_result"
    },
    {
     "data": {
      "image/png": "[encoded data removed]",
      "text/plain": [
       "<Figure size 432x288 with 2 Axes>"
      ]
     },
     "metadata": {
      "needs_background": "light"
     },
     "output_type": "display_data"
    }
   ],
   "source": [
    "sns.heatmap(P_df)"
   ]
  },
  {
   "cell_type": "code",
   "execution_count": 77,
   "metadata": {},
   "outputs": [
    {
     "data": {
      "text/plain": [
       "10.812211716475808"
      ]
     },
     "execution_count": 77,
     "metadata": {},
     "output_type": "execute_result"
    }
   ],
   "source": [
    "model.reconstruction_err_"
   ]
  },
  {
   "cell_type": "markdown",
   "metadata": {},
   "source": [
    "#### (Reconstruct predicted R) <- not necessary for predictions"
   ]
  },
  {
   "cell_type": "code",
   "execution_count": 78,
   "metadata": {},
   "outputs": [],
   "source": [
    "R = pd.DataFrame(np.dot(P, Q).round(), index=df.index, columns=df.columns)"
   ]
  },
  {
   "cell_type": "code",
   "execution_count": 79,
   "metadata": {},
   "outputs": [
    {
     "data": {
      "text/html": [
       "<div>\n",
       "<style scoped>\n",
       "    .dataframe tbody tr th:only-of-type {\n",
       "        vertical-align: middle;\n",
       "    }\n",
       "\n",
       "    .dataframe tbody tr th {\n",
       "        vertical-align: top;\n",
       "    }\n",
       "\n",
       "    .dataframe thead th {\n",
       "        text-align: right;\n",
       "    }\n",
       "</style>\n",
       "<table border=\"1\" class=\"dataframe\">\n",
       "  <thead>\n",
       "    <tr style=\"text-align: right;\">\n",
       "      <th></th>\n",
       "      <th>Forrest Gump</th>\n",
       "      <th>Shawshank Redemption</th>\n",
       "      <th>Pulp Fiction</th>\n",
       "      <th>Silence of the Lambs</th>\n",
       "      <th>Matrix, The</th>\n",
       "      <th>Star Wars: Episode IV</th>\n",
       "      <th>Jurassic Park</th>\n",
       "      <th>Braveheart</th>\n",
       "      <th>Terminator 2</th>\n",
       "      <th>Toy Story</th>\n",
       "      <th>American Beauty</th>\n",
       "      <th>Dances with Wolves</th>\n",
       "      <th>Fargo</th>\n",
       "      <th>The Lion King</th>\n",
       "    </tr>\n",
       "    <tr>\n",
       "      <th>User</th>\n",
       "      <th></th>\n",
       "      <th></th>\n",
       "      <th></th>\n",
       "      <th></th>\n",
       "      <th></th>\n",
       "      <th></th>\n",
       "      <th></th>\n",
       "      <th></th>\n",
       "      <th></th>\n",
       "      <th></th>\n",
       "      <th></th>\n",
       "      <th></th>\n",
       "      <th></th>\n",
       "      <th></th>\n",
       "    </tr>\n",
       "  </thead>\n",
       "  <tbody>\n",
       "    <tr>\n",
       "      <th>Paula</th>\n",
       "      <td>5.0</td>\n",
       "      <td>3.0</td>\n",
       "      <td>3.0</td>\n",
       "      <td>3.0</td>\n",
       "      <td>4.0</td>\n",
       "      <td>3.0</td>\n",
       "      <td>4.0</td>\n",
       "      <td>5.0</td>\n",
       "      <td>5.0</td>\n",
       "      <td>4.0</td>\n",
       "      <td>4.0</td>\n",
       "      <td>4.0</td>\n",
       "      <td>3.0</td>\n",
       "      <td>5.0</td>\n",
       "    </tr>\n",
       "    <tr>\n",
       "      <th>Madhur</th>\n",
       "      <td>5.0</td>\n",
       "      <td>4.0</td>\n",
       "      <td>4.0</td>\n",
       "      <td>4.0</td>\n",
       "      <td>5.0</td>\n",
       "      <td>3.0</td>\n",
       "      <td>4.0</td>\n",
       "      <td>4.0</td>\n",
       "      <td>4.0</td>\n",
       "      <td>4.0</td>\n",
       "      <td>4.0</td>\n",
       "      <td>3.0</td>\n",
       "      <td>4.0</td>\n",
       "      <td>5.0</td>\n",
       "    </tr>\n",
       "    <tr>\n",
       "      <th>Mandana</th>\n",
       "      <td>4.0</td>\n",
       "      <td>3.0</td>\n",
       "      <td>3.0</td>\n",
       "      <td>4.0</td>\n",
       "      <td>4.0</td>\n",
       "      <td>3.0</td>\n",
       "      <td>4.0</td>\n",
       "      <td>4.0</td>\n",
       "      <td>4.0</td>\n",
       "      <td>4.0</td>\n",
       "      <td>4.0</td>\n",
       "      <td>3.0</td>\n",
       "      <td>3.0</td>\n",
       "      <td>5.0</td>\n",
       "    </tr>\n",
       "    <tr>\n",
       "      <th>Daniel</th>\n",
       "      <td>4.0</td>\n",
       "      <td>4.0</td>\n",
       "      <td>4.0</td>\n",
       "      <td>4.0</td>\n",
       "      <td>4.0</td>\n",
       "      <td>3.0</td>\n",
       "      <td>3.0</td>\n",
       "      <td>3.0</td>\n",
       "      <td>3.0</td>\n",
       "      <td>4.0</td>\n",
       "      <td>4.0</td>\n",
       "      <td>3.0</td>\n",
       "      <td>4.0</td>\n",
       "      <td>4.0</td>\n",
       "    </tr>\n",
       "    <tr>\n",
       "      <th>shaimaa</th>\n",
       "      <td>5.0</td>\n",
       "      <td>3.0</td>\n",
       "      <td>3.0</td>\n",
       "      <td>3.0</td>\n",
       "      <td>4.0</td>\n",
       "      <td>3.0</td>\n",
       "      <td>4.0</td>\n",
       "      <td>5.0</td>\n",
       "      <td>5.0</td>\n",
       "      <td>4.0</td>\n",
       "      <td>3.0</td>\n",
       "      <td>4.0</td>\n",
       "      <td>3.0</td>\n",
       "      <td>5.0</td>\n",
       "    </tr>\n",
       "    <tr>\n",
       "      <th>Edgar</th>\n",
       "      <td>4.0</td>\n",
       "      <td>4.0</td>\n",
       "      <td>4.0</td>\n",
       "      <td>4.0</td>\n",
       "      <td>5.0</td>\n",
       "      <td>3.0</td>\n",
       "      <td>3.0</td>\n",
       "      <td>3.0</td>\n",
       "      <td>3.0</td>\n",
       "      <td>4.0</td>\n",
       "      <td>4.0</td>\n",
       "      <td>3.0</td>\n",
       "      <td>4.0</td>\n",
       "      <td>4.0</td>\n",
       "    </tr>\n",
       "    <tr>\n",
       "      <th>Mitun</th>\n",
       "      <td>4.0</td>\n",
       "      <td>4.0</td>\n",
       "      <td>4.0</td>\n",
       "      <td>4.0</td>\n",
       "      <td>4.0</td>\n",
       "      <td>3.0</td>\n",
       "      <td>3.0</td>\n",
       "      <td>3.0</td>\n",
       "      <td>3.0</td>\n",
       "      <td>4.0</td>\n",
       "      <td>4.0</td>\n",
       "      <td>3.0</td>\n",
       "      <td>3.0</td>\n",
       "      <td>4.0</td>\n",
       "    </tr>\n",
       "    <tr>\n",
       "      <th>Georg</th>\n",
       "      <td>4.0</td>\n",
       "      <td>5.0</td>\n",
       "      <td>6.0</td>\n",
       "      <td>5.0</td>\n",
       "      <td>5.0</td>\n",
       "      <td>4.0</td>\n",
       "      <td>3.0</td>\n",
       "      <td>3.0</td>\n",
       "      <td>2.0</td>\n",
       "      <td>5.0</td>\n",
       "      <td>4.0</td>\n",
       "      <td>2.0</td>\n",
       "      <td>4.0</td>\n",
       "      <td>3.0</td>\n",
       "    </tr>\n",
       "    <tr>\n",
       "      <th>Hassan</th>\n",
       "      <td>4.0</td>\n",
       "      <td>3.0</td>\n",
       "      <td>3.0</td>\n",
       "      <td>3.0</td>\n",
       "      <td>4.0</td>\n",
       "      <td>3.0</td>\n",
       "      <td>3.0</td>\n",
       "      <td>3.0</td>\n",
       "      <td>4.0</td>\n",
       "      <td>3.0</td>\n",
       "      <td>3.0</td>\n",
       "      <td>3.0</td>\n",
       "      <td>3.0</td>\n",
       "      <td>4.0</td>\n",
       "    </tr>\n",
       "    <tr>\n",
       "      <th>Davis</th>\n",
       "      <td>3.0</td>\n",
       "      <td>3.0</td>\n",
       "      <td>4.0</td>\n",
       "      <td>4.0</td>\n",
       "      <td>4.0</td>\n",
       "      <td>3.0</td>\n",
       "      <td>3.0</td>\n",
       "      <td>3.0</td>\n",
       "      <td>3.0</td>\n",
       "      <td>3.0</td>\n",
       "      <td>3.0</td>\n",
       "      <td>2.0</td>\n",
       "      <td>3.0</td>\n",
       "      <td>3.0</td>\n",
       "    </tr>\n",
       "    <tr>\n",
       "      <th>arman</th>\n",
       "      <td>4.0</td>\n",
       "      <td>4.0</td>\n",
       "      <td>5.0</td>\n",
       "      <td>4.0</td>\n",
       "      <td>5.0</td>\n",
       "      <td>3.0</td>\n",
       "      <td>3.0</td>\n",
       "      <td>3.0</td>\n",
       "      <td>3.0</td>\n",
       "      <td>4.0</td>\n",
       "      <td>4.0</td>\n",
       "      <td>3.0</td>\n",
       "      <td>4.0</td>\n",
       "      <td>4.0</td>\n",
       "    </tr>\n",
       "    <tr>\n",
       "      <th>Thomas</th>\n",
       "      <td>4.0</td>\n",
       "      <td>2.0</td>\n",
       "      <td>2.0</td>\n",
       "      <td>2.0</td>\n",
       "      <td>3.0</td>\n",
       "      <td>2.0</td>\n",
       "      <td>3.0</td>\n",
       "      <td>4.0</td>\n",
       "      <td>5.0</td>\n",
       "      <td>3.0</td>\n",
       "      <td>3.0</td>\n",
       "      <td>3.0</td>\n",
       "      <td>2.0</td>\n",
       "      <td>5.0</td>\n",
       "    </tr>\n",
       "    <tr>\n",
       "      <th>Joseph</th>\n",
       "      <td>4.0</td>\n",
       "      <td>2.0</td>\n",
       "      <td>2.0</td>\n",
       "      <td>3.0</td>\n",
       "      <td>3.0</td>\n",
       "      <td>2.0</td>\n",
       "      <td>3.0</td>\n",
       "      <td>4.0</td>\n",
       "      <td>4.0</td>\n",
       "      <td>3.0</td>\n",
       "      <td>3.0</td>\n",
       "      <td>3.0</td>\n",
       "      <td>2.0</td>\n",
       "      <td>4.0</td>\n",
       "    </tr>\n",
       "  </tbody>\n",
       "</table>\n",
       "</div>"
      ],
      "text/plain": [
       "         Forrest Gump  Shawshank Redemption  Pulp Fiction  \\\n",
       "User                                                        \n",
       "Paula             5.0                   3.0           3.0   \n",
       "Madhur            5.0                   4.0           4.0   \n",
       "Mandana           4.0                   3.0           3.0   \n",
       "Daniel            4.0                   4.0           4.0   \n",
       "shaimaa           5.0                   3.0           3.0   \n",
       "Edgar             4.0                   4.0           4.0   \n",
       "Mitun             4.0                   4.0           4.0   \n",
       "Georg             4.0                   5.0           6.0   \n",
       "Hassan            4.0                   3.0           3.0   \n",
       "Davis             3.0                   3.0           4.0   \n",
       "arman             4.0                   4.0           5.0   \n",
       "Thomas            4.0                   2.0           2.0   \n",
       "Joseph            4.0                   2.0           2.0   \n",
       "\n",
       "         Silence of the Lambs  Matrix, The  Star Wars: Episode IV   \\\n",
       "User                                                                 \n",
       "Paula                     3.0          4.0                     3.0   \n",
       "Madhur                    4.0          5.0                     3.0   \n",
       "Mandana                   4.0          4.0                     3.0   \n",
       "Daniel                    4.0          4.0                     3.0   \n",
       "shaimaa                   3.0          4.0                     3.0   \n",
       "Edgar                     4.0          5.0                     3.0   \n",
       "Mitun                     4.0          4.0                     3.0   \n",
       "Georg                     5.0          5.0                     4.0   \n",
       "Hassan                    3.0          4.0                     3.0   \n",
       "Davis                     4.0          4.0                     3.0   \n",
       "arman                     4.0          5.0                     3.0   \n",
       "Thomas                    2.0          3.0                     2.0   \n",
       "Joseph                    3.0          3.0                     2.0   \n",
       "\n",
       "         Jurassic Park  Braveheart  Terminator 2  Toy Story  American Beauty  \\\n",
       "User                                                                           \n",
       "Paula              4.0         5.0           5.0        4.0              4.0   \n",
       "Madhur             4.0         4.0           4.0        4.0              4.0   \n",
       "Mandana            4.0         4.0           4.0        4.0              4.0   \n",
       "Daniel             3.0         3.0           3.0        4.0              4.0   \n",
       "shaimaa            4.0         5.0           5.0        4.0              3.0   \n",
       "Edgar              3.0         3.0           3.0        4.0              4.0   \n",
       "Mitun              3.0         3.0           3.0        4.0              4.0   \n",
       "Georg              3.0         3.0           2.0        5.0              4.0   \n",
       "Hassan             3.0         3.0           4.0        3.0              3.0   \n",
       "Davis              3.0         3.0           3.0        3.0              3.0   \n",
       "arman              3.0         3.0           3.0        4.0              4.0   \n",
       "Thomas             3.0         4.0           5.0        3.0              3.0   \n",
       "Joseph             3.0         4.0           4.0        3.0              3.0   \n",
       "\n",
       "         Dances with Wolves  Fargo  The Lion King  \n",
       "User                                               \n",
       "Paula                   4.0    3.0            5.0  \n",
       "Madhur                  3.0    4.0            5.0  \n",
       "Mandana                 3.0    3.0            5.0  \n",
       "Daniel                  3.0    4.0            4.0  \n",
       "shaimaa                 4.0    3.0            5.0  \n",
       "Edgar                   3.0    4.0            4.0  \n",
       "Mitun                   3.0    3.0            4.0  \n",
       "Georg                   2.0    4.0            3.0  \n",
       "Hassan                  3.0    3.0            4.0  \n",
       "Davis                   2.0    3.0            3.0  \n",
       "arman                   3.0    4.0            4.0  \n",
       "Thomas                  3.0    2.0            5.0  \n",
       "Joseph                  3.0    2.0            4.0  "
      ]
     },
     "execution_count": 79,
     "metadata": {},
     "output_type": "execute_result"
    }
   ],
   "source": [
    "R"
   ]
  },
  {
   "cell_type": "markdown",
   "metadata": {},
   "source": [
    "### 3. Predict i.e recommend"
   ]
  },
  {
   "cell_type": "code",
   "execution_count": 80,
   "metadata": {},
   "outputs": [
    {
     "data": {
      "text/plain": [
       "Index(['Forrest Gump', 'Shawshank Redemption', 'Pulp Fiction',\n",
       "       'Silence of the Lambs', 'Matrix, The', 'Star Wars: Episode IV ',\n",
       "       'Jurassic Park', 'Braveheart', 'Terminator 2', 'Toy Story',\n",
       "       'American Beauty', 'Dances with Wolves', 'Fargo', 'The Lion King'],\n",
       "      dtype='object')"
      ]
     },
     "execution_count": 80,
     "metadata": {},
     "output_type": "execute_result"
    }
   ],
   "source": [
    "df.columns"
   ]
  },
  {
   "cell_type": "markdown",
   "metadata": {},
   "source": [
    "#### Get new ratings"
   ]
  },
  {
   "cell_type": "code",
   "execution_count": 85,
   "metadata": {},
   "outputs": [
    {
     "data": {
      "text/plain": [
       "array([[nan, nan,  4.,  5.,  5.,  2.,  4.,  5.,  5.,  4., nan, nan, nan,\n",
       "         5.]])"
      ]
     },
     "execution_count": 85,
     "metadata": {},
     "output_type": "execute_result"
    }
   ],
   "source": [
    "df.loc[df.index == 'Mandana',:].values"
   ]
  },
  {
   "cell_type": "code",
   "execution_count": 86,
   "metadata": {},
   "outputs": [],
   "source": [
    "user = df.loc[df.index == 'Mandana',:].values"
   ]
  },
  {
   "cell_type": "code",
   "execution_count": 87,
   "metadata": {},
   "outputs": [
    {
     "data": {
      "text/plain": [
       "array([[nan, nan,  4.,  5.,  5.,  2.,  4.,  5.,  5.,  4., nan, nan, nan,\n",
       "         5.]])"
      ]
     },
     "execution_count": 87,
     "metadata": {},
     "output_type": "execute_result"
    }
   ],
   "source": [
    "user"
   ]
  },
  {
   "cell_type": "markdown",
   "metadata": {},
   "source": [
    "#### Impute"
   ]
  },
  {
   "cell_type": "code",
   "execution_count": 88,
   "metadata": {},
   "outputs": [
    {
     "name": "stderr",
     "output_type": "stream",
     "text": [
      "/Users/spiced/opt/anaconda3/envs/route_durlach/lib/python3.8/site-packages/sklearn/base.py:450: UserWarning: X does not have valid feature names, but SimpleImputer was fitted with feature names\n",
      "  warnings.warn(\n"
     ]
    }
   ],
   "source": [
    "user_clean = imputer.transform(user)"
   ]
  },
  {
   "cell_type": "code",
   "execution_count": 89,
   "metadata": {},
   "outputs": [
    {
     "data": {
      "text/plain": [
       "array([[2.5, 2.5, 4. , 5. , 5. , 2. , 4. , 5. , 5. , 4. , 2.5, 2.5, 2.5,\n",
       "        5. ]])"
      ]
     },
     "execution_count": 89,
     "metadata": {},
     "output_type": "execute_result"
    }
   ],
   "source": [
    "user_clean"
   ]
  },
  {
   "cell_type": "markdown",
   "metadata": {},
   "source": [
    "#### Predict user P"
   ]
  },
  {
   "cell_type": "code",
   "execution_count": 96,
   "metadata": {},
   "outputs": [
    {
     "data": {
      "text/plain": [
       "array([[1.5151319 , 1.42564945]])"
      ]
     },
     "execution_count": 96,
     "metadata": {},
     "output_type": "execute_result"
    }
   ],
   "source": [
    "user_P = model.transform(user_clean)          # how strongly our user likes the 2 \"genres\"\n",
    "user_P"
   ]
  },
  {
   "cell_type": "markdown",
   "metadata": {},
   "source": [
    "#### User R"
   ]
  },
  {
   "cell_type": "code",
   "execution_count": 97,
   "metadata": {},
   "outputs": [],
   "source": [
    "#new user R - reconstruct R but for this new user only\n",
    "user_R = np.dot(user_P,Q)"
   ]
  },
  {
   "cell_type": "code",
   "execution_count": 98,
   "metadata": {},
   "outputs": [
    {
     "data": {
      "text/html": [
       "<div>\n",
       "<style scoped>\n",
       "    .dataframe tbody tr th:only-of-type {\n",
       "        vertical-align: middle;\n",
       "    }\n",
       "\n",
       "    .dataframe tbody tr th {\n",
       "        vertical-align: top;\n",
       "    }\n",
       "\n",
       "    .dataframe thead th {\n",
       "        text-align: right;\n",
       "    }\n",
       "</style>\n",
       "<table border=\"1\" class=\"dataframe\">\n",
       "  <thead>\n",
       "    <tr style=\"text-align: right;\">\n",
       "      <th></th>\n",
       "      <th>Forrest Gump</th>\n",
       "      <th>Shawshank Redemption</th>\n",
       "      <th>Pulp Fiction</th>\n",
       "      <th>Silence of the Lambs</th>\n",
       "      <th>Matrix, The</th>\n",
       "      <th>Star Wars: Episode IV</th>\n",
       "      <th>Jurassic Park</th>\n",
       "      <th>Braveheart</th>\n",
       "      <th>Terminator 2</th>\n",
       "      <th>Toy Story</th>\n",
       "      <th>American Beauty</th>\n",
       "      <th>Dances with Wolves</th>\n",
       "      <th>Fargo</th>\n",
       "      <th>The Lion King</th>\n",
       "    </tr>\n",
       "  </thead>\n",
       "  <tbody>\n",
       "    <tr>\n",
       "      <th>0</th>\n",
       "      <td>4.334079</td>\n",
       "      <td>3.289492</td>\n",
       "      <td>3.438782</td>\n",
       "      <td>3.59001</td>\n",
       "      <td>4.03985</td>\n",
       "      <td>2.91596</td>\n",
       "      <td>3.720437</td>\n",
       "      <td>4.04617</td>\n",
       "      <td>4.432729</td>\n",
       "      <td>3.683217</td>\n",
       "      <td>3.543902</td>\n",
       "      <td>3.214412</td>\n",
       "      <td>2.991786</td>\n",
       "      <td>4.74037</td>\n",
       "    </tr>\n",
       "  </tbody>\n",
       "</table>\n",
       "</div>"
      ],
      "text/plain": [
       "   Forrest Gump  Shawshank Redemption  Pulp Fiction  Silence of the Lambs  \\\n",
       "0      4.334079              3.289492      3.438782               3.59001   \n",
       "\n",
       "   Matrix, The  Star Wars: Episode IV   Jurassic Park  Braveheart  \\\n",
       "0      4.03985                 2.91596       3.720437     4.04617   \n",
       "\n",
       "   Terminator 2  Toy Story  American Beauty  Dances with Wolves     Fargo  \\\n",
       "0      4.432729   3.683217         3.543902            3.214412  2.991786   \n",
       "\n",
       "   The Lion King  \n",
       "0        4.74037  "
      ]
     },
     "execution_count": 98,
     "metadata": {},
     "output_type": "execute_result"
    }
   ],
   "source": [
    "user_p_df = pd.DataFrame(user_R)\n",
    "user_p_df.columns = df.columns\n",
    "user_p_df"
   ]
  },
  {
   "cell_type": "markdown",
   "metadata": {},
   "source": [
    "#### Remove movies user has already seen & give out recommendation"
   ]
  },
  {
   "cell_type": "code",
   "execution_count": 104,
   "metadata": {},
   "outputs": [
    {
     "data": {
      "text/plain": [
       "array([nan, nan,  4.,  5.,  5.,  2.,  4.,  5.,  5.,  4., nan, nan, nan,\n",
       "        5.])"
      ]
     },
     "execution_count": 104,
     "metadata": {},
     "output_type": "execute_result"
    }
   ],
   "source": [
    "user[0]\n"
   ]
  },
  {
   "cell_type": "code",
   "execution_count": 106,
   "metadata": {},
   "outputs": [],
   "source": [
    "recommendation = pd.DataFrame({'user_input':user[0], 'predicted_ratings':user_R[0]}, index = df.columns)"
   ]
  },
  {
   "cell_type": "code",
   "execution_count": 107,
   "metadata": {},
   "outputs": [
    {
     "data": {
      "text/html": [
       "<div>\n",
       "<style scoped>\n",
       "    .dataframe tbody tr th:only-of-type {\n",
       "        vertical-align: middle;\n",
       "    }\n",
       "\n",
       "    .dataframe tbody tr th {\n",
       "        vertical-align: top;\n",
       "    }\n",
       "\n",
       "    .dataframe thead th {\n",
       "        text-align: right;\n",
       "    }\n",
       "</style>\n",
       "<table border=\"1\" class=\"dataframe\">\n",
       "  <thead>\n",
       "    <tr style=\"text-align: right;\">\n",
       "      <th></th>\n",
       "      <th>user_input</th>\n",
       "      <th>predicted_ratings</th>\n",
       "    </tr>\n",
       "  </thead>\n",
       "  <tbody>\n",
       "    <tr>\n",
       "      <th>Forrest Gump</th>\n",
       "      <td>NaN</td>\n",
       "      <td>4.334079</td>\n",
       "    </tr>\n",
       "    <tr>\n",
       "      <th>Shawshank Redemption</th>\n",
       "      <td>NaN</td>\n",
       "      <td>3.289492</td>\n",
       "    </tr>\n",
       "    <tr>\n",
       "      <th>Pulp Fiction</th>\n",
       "      <td>4.0</td>\n",
       "      <td>3.438782</td>\n",
       "    </tr>\n",
       "    <tr>\n",
       "      <th>Silence of the Lambs</th>\n",
       "      <td>5.0</td>\n",
       "      <td>3.590010</td>\n",
       "    </tr>\n",
       "    <tr>\n",
       "      <th>Matrix, The</th>\n",
       "      <td>5.0</td>\n",
       "      <td>4.039850</td>\n",
       "    </tr>\n",
       "    <tr>\n",
       "      <th>Star Wars: Episode IV</th>\n",
       "      <td>2.0</td>\n",
       "      <td>2.915960</td>\n",
       "    </tr>\n",
       "    <tr>\n",
       "      <th>Jurassic Park</th>\n",
       "      <td>4.0</td>\n",
       "      <td>3.720437</td>\n",
       "    </tr>\n",
       "    <tr>\n",
       "      <th>Braveheart</th>\n",
       "      <td>5.0</td>\n",
       "      <td>4.046170</td>\n",
       "    </tr>\n",
       "    <tr>\n",
       "      <th>Terminator 2</th>\n",
       "      <td>5.0</td>\n",
       "      <td>4.432729</td>\n",
       "    </tr>\n",
       "    <tr>\n",
       "      <th>Toy Story</th>\n",
       "      <td>4.0</td>\n",
       "      <td>3.683217</td>\n",
       "    </tr>\n",
       "    <tr>\n",
       "      <th>American Beauty</th>\n",
       "      <td>NaN</td>\n",
       "      <td>3.543902</td>\n",
       "    </tr>\n",
       "    <tr>\n",
       "      <th>Dances with Wolves</th>\n",
       "      <td>NaN</td>\n",
       "      <td>3.214412</td>\n",
       "    </tr>\n",
       "    <tr>\n",
       "      <th>Fargo</th>\n",
       "      <td>NaN</td>\n",
       "      <td>2.991786</td>\n",
       "    </tr>\n",
       "    <tr>\n",
       "      <th>The Lion King</th>\n",
       "      <td>5.0</td>\n",
       "      <td>4.740370</td>\n",
       "    </tr>\n",
       "  </tbody>\n",
       "</table>\n",
       "</div>"
      ],
      "text/plain": [
       "                        user_input  predicted_ratings\n",
       "Forrest Gump                   NaN           4.334079\n",
       "Shawshank Redemption           NaN           3.289492\n",
       "Pulp Fiction                   4.0           3.438782\n",
       "Silence of the Lambs           5.0           3.590010\n",
       "Matrix, The                    5.0           4.039850\n",
       "Star Wars: Episode IV          2.0           2.915960\n",
       "Jurassic Park                  4.0           3.720437\n",
       "Braveheart                     5.0           4.046170\n",
       "Terminator 2                   5.0           4.432729\n",
       "Toy Story                      4.0           3.683217\n",
       "American Beauty                NaN           3.543902\n",
       "Dances with Wolves             NaN           3.214412\n",
       "Fargo                          NaN           2.991786\n",
       "The Lion King                  5.0           4.740370"
      ]
     },
     "execution_count": 107,
     "metadata": {},
     "output_type": "execute_result"
    }
   ],
   "source": [
    "recommendation"
   ]
  },
  {
   "cell_type": "code",
   "execution_count": 105,
   "metadata": {},
   "outputs": [
    {
     "ename": "NameError",
     "evalue": "name 'recommendation' is not defined",
     "output_type": "error",
     "traceback": [
      "\u001b[0;31m---------------------------------------------------------------------------\u001b[0m",
      "\u001b[0;31mNameError\u001b[0m                                 Traceback (most recent call last)",
      "\u001b[1;32m/Users/spiced/personal_directory/recommender_system/NMF.ipynb Cell 55'\u001b[0m in \u001b[0;36m<cell line: 1>\u001b[0;34m()\u001b[0m\n\u001b[0;32m----> <a href='vscode-notebook-cell:/Users/spiced/personal_directory/recommender_system/NMF.ipynb#ch0000052?line=0'>1</a>\u001b[0m recommendation[recommendation[\u001b[39m'\u001b[39m\u001b[39muser_input\u001b[39m\u001b[39m'\u001b[39m]\u001b[39m.\u001b[39misna()]\u001b[39m.\u001b[39msort_values(by \u001b[39m=\u001b[39m \u001b[39m'\u001b[39m\u001b[39mpredicted_ratings\u001b[39m\u001b[39m'\u001b[39m, ascending\u001b[39m=\u001b[39m \u001b[39mFalse\u001b[39;00m)\n",
      "\u001b[0;31mNameError\u001b[0m: name 'recommendation' is not defined"
     ]
    }
   ],
   "source": [
    "recommendation[recommendation['user_input'].isna()].sort_values(by = 'predicted_ratings', ascending= False)"
   ]
  },
  {
   "cell_type": "code",
   "execution_count": 109,
   "metadata": {},
   "outputs": [
    {
     "data": {
      "text/html": [
       "<div>\n",
       "<style scoped>\n",
       "    .dataframe tbody tr th:only-of-type {\n",
       "        vertical-align: middle;\n",
       "    }\n",
       "\n",
       "    .dataframe tbody tr th {\n",
       "        vertical-align: top;\n",
       "    }\n",
       "\n",
       "    .dataframe thead th {\n",
       "        text-align: right;\n",
       "    }\n",
       "</style>\n",
       "<table border=\"1\" class=\"dataframe\">\n",
       "  <thead>\n",
       "    <tr style=\"text-align: right;\">\n",
       "      <th></th>\n",
       "      <th>user_input</th>\n",
       "      <th>predicted_ratings</th>\n",
       "    </tr>\n",
       "  </thead>\n",
       "  <tbody>\n",
       "    <tr>\n",
       "      <th>Forrest Gump</th>\n",
       "      <td>NaN</td>\n",
       "      <td>4.334079</td>\n",
       "    </tr>\n",
       "    <tr>\n",
       "      <th>American Beauty</th>\n",
       "      <td>NaN</td>\n",
       "      <td>3.543902</td>\n",
       "    </tr>\n",
       "    <tr>\n",
       "      <th>Shawshank Redemption</th>\n",
       "      <td>NaN</td>\n",
       "      <td>3.289492</td>\n",
       "    </tr>\n",
       "  </tbody>\n",
       "</table>\n",
       "</div>"
      ],
      "text/plain": [
       "                      user_input  predicted_ratings\n",
       "Forrest Gump                 NaN           4.334079\n",
       "American Beauty              NaN           3.543902\n",
       "Shawshank Redemption         NaN           3.289492"
      ]
     },
     "execution_count": 109,
     "metadata": {},
     "output_type": "execute_result"
    }
   ],
   "source": [
    "recommendation[recommendation['user_input'].isna()].sort_values(by = 'predicted_ratings', ascending= False).head(3)"
   ]
  },
  {
   "cell_type": "markdown",
   "metadata": {},
   "source": [
    "## To use this for our project we need \n",
    "1. The user-ratings matrix\n",
    "Use `pivot` `R = ratings.pivot(index = '___' ,columns = '___', values = '___')`\n",
    "2. Follow the same steps in this notebook\n",
    "3. Make it nicer, out it in a function"
   ]
  },
  {
   "cell_type": "markdown",
   "metadata": {},
   "source": [
    "### The real use for our recommender"
   ]
  },
  {
   "cell_type": "markdown",
   "metadata": {},
   "source": [
    "1. New user gives a dictionary of 3-5 movie:ratings \n",
    "    - \"Movie title - rating form in your website\" \n",
    "2. We recostruct the `new_user` and fill in with Nan everything that are not the movies mentioned\n",
    "    - --> There will be a lot (A LOT, almost 10 000 `Nan`) \n",
    "3. Use the model as described in the notebook to give a recommendation"
   ]
  },
  {
   "cell_type": "markdown",
   "metadata": {},
   "source": [
    "#### Helper functions for every recommender\n",
    "- `def`: has the user watched the movie\n",
    "- `def`: matching title with `fuzzywuzzy`"
   ]
  },
  {
   "cell_type": "code",
   "execution_count": 73,
   "metadata": {},
   "outputs": [],
   "source": [
    "movies = pd.read_csv('data/movies_genres.csv')"
   ]
  },
  {
   "cell_type": "code",
   "execution_count": 78,
   "metadata": {},
   "outputs": [
    {
     "data": {
      "text/html": [
       "<div>\n",
       "<style scoped>\n",
       "    .dataframe tbody tr th:only-of-type {\n",
       "        vertical-align: middle;\n",
       "    }\n",
       "\n",
       "    .dataframe tbody tr th {\n",
       "        vertical-align: top;\n",
       "    }\n",
       "\n",
       "    .dataframe thead th {\n",
       "        text-align: right;\n",
       "    }\n",
       "</style>\n",
       "<table border=\"1\" class=\"dataframe\">\n",
       "  <thead>\n",
       "    <tr style=\"text-align: right;\">\n",
       "      <th></th>\n",
       "      <th>movieid</th>\n",
       "      <th>title</th>\n",
       "      <th>year</th>\n",
       "      <th>romance</th>\n",
       "      <th>sci-fi</th>\n",
       "      <th>animation</th>\n",
       "      <th>film-noir</th>\n",
       "      <th>musical</th>\n",
       "      <th>adventure</th>\n",
       "      <th>thriller</th>\n",
       "      <th>...</th>\n",
       "      <th>fantasy</th>\n",
       "      <th>mystery</th>\n",
       "      <th>children</th>\n",
       "      <th>comedy</th>\n",
       "      <th>crime</th>\n",
       "      <th>western</th>\n",
       "      <th>imax</th>\n",
       "      <th>war</th>\n",
       "      <th>drama</th>\n",
       "      <th>action</th>\n",
       "    </tr>\n",
       "  </thead>\n",
       "  <tbody>\n",
       "    <tr>\n",
       "      <th>1939</th>\n",
       "      <td>2571</td>\n",
       "      <td>Matrix, The</td>\n",
       "      <td>1999.0</td>\n",
       "      <td>0</td>\n",
       "      <td>1</td>\n",
       "      <td>0</td>\n",
       "      <td>0</td>\n",
       "      <td>0</td>\n",
       "      <td>0</td>\n",
       "      <td>1</td>\n",
       "      <td>...</td>\n",
       "      <td>0</td>\n",
       "      <td>0</td>\n",
       "      <td>0</td>\n",
       "      <td>0</td>\n",
       "      <td>0</td>\n",
       "      <td>0</td>\n",
       "      <td>0</td>\n",
       "      <td>0</td>\n",
       "      <td>0</td>\n",
       "      <td>1</td>\n",
       "    </tr>\n",
       "  </tbody>\n",
       "</table>\n",
       "<p>1 rows × 22 columns</p>\n",
       "</div>"
      ],
      "text/plain": [
       "      movieid        title    year  romance  sci-fi  animation  film-noir  \\\n",
       "1939     2571  Matrix, The  1999.0        0       1          0          0   \n",
       "\n",
       "      musical  adventure  thriller  ...  fantasy  mystery  children  comedy  \\\n",
       "1939        0          0         1  ...        0        0         0       0   \n",
       "\n",
       "      crime  western  imax  war  drama  action  \n",
       "1939      0        0     0    0      0       1  \n",
       "\n",
       "[1 rows x 22 columns]"
      ]
     },
     "execution_count": 78,
     "metadata": {},
     "output_type": "execute_result"
    }
   ],
   "source": [
    "movies[movies['title'] == 'Matrix, The']"
   ]
  },
  {
   "cell_type": "code",
   "execution_count": null,
   "metadata": {},
   "outputs": [],
   "source": []
  },
  {
   "cell_type": "code",
   "execution_count": 77,
   "metadata": {},
   "outputs": [
    {
     "data": {
      "text/html": [
       "<div>\n",
       "<style scoped>\n",
       "    .dataframe tbody tr th:only-of-type {\n",
       "        vertical-align: middle;\n",
       "    }\n",
       "\n",
       "    .dataframe tbody tr th {\n",
       "        vertical-align: top;\n",
       "    }\n",
       "\n",
       "    .dataframe thead th {\n",
       "        text-align: right;\n",
       "    }\n",
       "</style>\n",
       "<table border=\"1\" class=\"dataframe\">\n",
       "  <thead>\n",
       "    <tr style=\"text-align: right;\">\n",
       "      <th></th>\n",
       "      <th>movieid</th>\n",
       "      <th>title</th>\n",
       "      <th>year</th>\n",
       "      <th>romance</th>\n",
       "      <th>sci-fi</th>\n",
       "      <th>animation</th>\n",
       "      <th>film-noir</th>\n",
       "      <th>musical</th>\n",
       "      <th>adventure</th>\n",
       "      <th>thriller</th>\n",
       "      <th>...</th>\n",
       "      <th>fantasy</th>\n",
       "      <th>mystery</th>\n",
       "      <th>children</th>\n",
       "      <th>comedy</th>\n",
       "      <th>crime</th>\n",
       "      <th>western</th>\n",
       "      <th>imax</th>\n",
       "      <th>war</th>\n",
       "      <th>drama</th>\n",
       "      <th>action</th>\n",
       "    </tr>\n",
       "  </thead>\n",
       "  <tbody>\n",
       "  </tbody>\n",
       "</table>\n",
       "<p>0 rows × 22 columns</p>\n",
       "</div>"
      ],
      "text/plain": [
       "Empty DataFrame\n",
       "Columns: [movieid, title, year, romance, sci-fi, animation, film-noir, musical, adventure, thriller, horror, documentary, fantasy, mystery, children, comedy, crime, western, imax, war, drama, action]\n",
       "Index: []\n",
       "\n",
       "[0 rows x 22 columns]"
      ]
     },
     "execution_count": 77,
     "metadata": {},
     "output_type": "execute_result"
    }
   ],
   "source": [
    "movies[movies['title'] == 'The Matrix']"
   ]
  },
  {
   "cell_type": "markdown",
   "metadata": {},
   "source": [
    "Solve the problem of users not writing the extact title with `fuzzywuzzy`:https://github.com/seatgeek/fuzzywuzzy"
   ]
  },
  {
   "cell_type": "code",
   "execution_count": 79,
   "metadata": {},
   "outputs": [],
   "source": [
    "from fuzzywuzzy import process"
   ]
  },
  {
   "cell_type": "code",
   "execution_count": 81,
   "metadata": {},
   "outputs": [
    {
     "data": {
      "text/plain": [
       "('Matrix, The', 95, 1939)"
      ]
     },
     "execution_count": 81,
     "metadata": {},
     "output_type": "execute_result"
    }
   ],
   "source": [
    "process.extractOne('The Matrix', movies['title'])"
   ]
  },
  {
   "cell_type": "code",
   "execution_count": 84,
   "metadata": {},
   "outputs": [
    {
     "data": {
      "text/plain": [
       "[('Shawshank Redemption, The', 95, 277),\n",
       " ('Red', 90, 7445),\n",
       " ('Shane', 72, 2894),\n",
       " ('Jaws', 68, 1067),\n",
       " ('Tron', 68, 1567)]"
      ]
     },
     "execution_count": 84,
     "metadata": {},
     "output_type": "execute_result"
    }
   ],
   "source": [
    "process.extract('Shawshank Redemption', movies['title'])"
   ]
  }
 ],
 "metadata": {
  "kernelspec": {
   "display_name": "Python 3",
   "language": "python",
   "name": "python3"
  },
  "language_info": {
   "codemirror_mode": {
    "name": "ipython",
    "version": 3
   },
   "file_extension": ".py",
   "mimetype": "text/x-python",
   "name": "python",
   "nbconvert_exporter": "python",
   "pygments_lexer": "ipython3",
   "version": "3.8.12"
  }
 },
 "nbformat": 4,
 "nbformat_minor": 4
}
